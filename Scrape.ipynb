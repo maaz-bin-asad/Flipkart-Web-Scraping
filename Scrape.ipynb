{
  "cells": [
    {
      "cell_type": "markdown",
      "source": [
        "# Object:\n",
        "**To scrape the laptops that are available on the flipkart search page inlcuding their names, prices, RAM, Secondary Storage and other impotant specifications. The scraped data will then be converted into the pandas dataframe to better visualize and get insights from it.**\n",
        "\n",
        "\n",
        "# Tools used: \n",
        "**Python, Beautiful Soup, Pandas, requests**"
      ],
      "metadata": {
        "id": "tQUjdZzdsrbx"
      }
    },
    {
      "cell_type": "markdown",
      "metadata": {
        "id": "usGBH7Eh-mwp"
      },
      "source": [
        "Import necessary libraries and packages"
      ]
    },
    {
      "cell_type": "code",
      "execution_count": 13,
      "metadata": {
        "id": "NgmyVZ5OXLLA"
      },
      "outputs": [],
      "source": [
        "from bs4 import BeautifulSoup as bs         # for parsing and extracting the data from the web page\n",
        "import requests                             # to make a get request to a web page\n",
        "import pandas as pd                         # for creating dataframes and vector algebra"
      ]
    },
    {
      "cell_type": "markdown",
      "metadata": {
        "id": "XX85pN6j_Yb0"
      },
      "source": [
        "Get the web page through the specified address"
      ]
    },
    {
      "cell_type": "code",
      "execution_count": null,
      "metadata": {
        "id": "4wjn_Jsap_eH"
      },
      "outputs": [],
      "source": [
        "destUrl = \"https://www.flipkart.com/search?q=laptop&otracker=search&otracker1=search&marketplace=FLIPKART&as-show=on&as=off\"\n",
        "\"\"\"\n",
        "The following is the method of requesting the web page using a proxy. Proxy is an intermediate server\n",
        " that responds to the client's requests on behalf of the server and performs actions like scheduling, routing.\n",
        "webPage = requests.get(destUrl, proxies={\"http\": proxy, \"https\": proxy})\n",
        "\n",
        "\"\"\"\n",
        "webPage = requests.get(destUrl)             # make a get request to the URL\n",
        "webPage.content                             # get the content of the page"
      ]
    },
    {
      "cell_type": "markdown",
      "metadata": {
        "id": "9k7OTUhuhGPF"
      },
      "source": [
        "Parse the data"
      ]
    },
    {
      "cell_type": "code",
      "execution_count": null,
      "metadata": {
        "id": "f8Fwxo-Wreyo"
      },
      "outputs": [],
      "source": [
        "parsedData = bs(webPage.content, 'html.parser')             # parse the data\n",
        "parsedData.prettify()                                       # perform formatting of the data"
      ]
    },
    {
      "cell_type": "markdown",
      "metadata": {
        "id": "4ZbttvNmhkQ6"
      },
      "source": [
        "Traverse the parsed data and get different elements based on HTML tags"
      ]
    },
    {
      "cell_type": "code",
      "execution_count": 18,
      "metadata": {
        "colab": {
          "base_uri": "https://localhost:8080/"
        },
        "id": "-_H-eNMcueL3",
        "outputId": "d5f9b09d-1e87-4d9c-8845-7bb912d1e647"
      },
      "outputs": [
        {
          "output_type": "stream",
          "name": "stdout",
          "text": [
            "Product:  acer Aspire 5 Core i5 11th Gen - (8 GB/1 TB HDD/256 GB SSD/Windows 10 Home) A515-56 Thin and Light Lap...\n",
            "Price:  ₹49,999\n",
            "Processor:  Intel Core i5 Processor (11th Gen)\n",
            "Operating System:  64 bit Windows 10 Operating System\n",
            "RAM:  8 GB DDR4 RAM\n",
            "Secondary Storage: 1 TB HDD|256 GB SSD\n"
          ]
        }
      ],
      "source": [
        "products = []                      # to store names of each product\n",
        "prices = []                           # to store names of each product\n",
        "ratings = []                         # to store names of each product\n",
        "processors = []                   # to store names of each product\n",
        "RAMs = []                           # to store names of each product\n",
        "operatingSystems = []        # to store names of each product\n",
        "secondaryStorages = []      # to store names of each product\n",
        "\n",
        "# function to get all the products from the parsed data\n",
        "def getProducts(parsedData):\n",
        "    \n",
        "    # traverse the elements of parsed text\n",
        "    for elements in parsedData.findAll('div',class_='_3pLy-c row'):\n",
        "        name = elements.find('div', attrs={'class':'_4rR01T'})\n",
        "        price = elements.find('div', attrs={'class':'_30jeq3 _1_WHN1'})\n",
        "        rating = elements.find('div', attrs={'class':'_3LWZlK'})\n",
        "        \n",
        "        # get specification of the product\n",
        "        specification = elements.find('div', attrs={'class':'fMghEO'})\n",
        "        \n",
        "        # traverse each element of the specification\n",
        "        for element in specification:\n",
        "            col = element.find_all('li', attrs={'class':'rgWa7D'})\n",
        "            processor = col[0].text\n",
        "            RAM = col[1].text\n",
        "            os = col[2].text\n",
        "            secondaryStorage = col[3].text\n",
        "\n",
        "        # append each element into the list\n",
        "        products.append(name.text)\n",
        "        prices.append(price.text)\n",
        "        processors.append(processor)\n",
        "        RAMs.append(RAM)\n",
        "        operatingSystems.append(os)\n",
        "        secondaryStorages.append(secondaryStorage) \n",
        "\n",
        "#print the first product details\n",
        "def printFirstProduct():\n",
        "    print(\"Product: \", products[0])\n",
        "    print(\"Price: \", prices[0])\n",
        "    print(\"Processor: \", processors[0])\n",
        "    print(\"Operating System: \", operatingSystems[0])\n",
        "    print(\"RAM: \", RAMs[0])\n",
        "    print(\"Secondary Storage:\", secondaryStorages[0])\n",
        "\n",
        "getProducts(parsedData)\n",
        "printFirstProduct()"
      ]
    },
    {
      "cell_type": "markdown",
      "source": [
        "Create pandas dataframe"
      ],
      "metadata": {
        "id": "UTjFMCIVnVZE"
      }
    },
    {
      "cell_type": "code",
      "execution_count": 19,
      "metadata": {
        "colab": {
          "base_uri": "https://localhost:8080/",
          "height": 337
        },
        "id": "aDf4iMI14QNm",
        "outputId": "8e7a3268-66ea-4a36-8451-7f511a814ced"
      },
      "outputs": [
        {
          "output_type": "execute_result",
          "data": {
            "text/html": [
              "\n",
              "  <div id=\"df-40855840-d7bf-4eca-b588-c3ba2e962b8d\">\n",
              "    <div class=\"colab-df-container\">\n",
              "      <div>\n",
              "<style scoped>\n",
              "    .dataframe tbody tr th:only-of-type {\n",
              "        vertical-align: middle;\n",
              "    }\n",
              "\n",
              "    .dataframe tbody tr th {\n",
              "        vertical-align: top;\n",
              "    }\n",
              "\n",
              "    .dataframe thead th {\n",
              "        text-align: right;\n",
              "    }\n",
              "</style>\n",
              "<table border=\"1\" class=\"dataframe\">\n",
              "  <thead>\n",
              "    <tr style=\"text-align: right;\">\n",
              "      <th></th>\n",
              "      <th>Product</th>\n",
              "      <th>Price</th>\n",
              "      <th>CPU</th>\n",
              "      <th>Operating System</th>\n",
              "      <th>RAM</th>\n",
              "      <th>Secondary Storage</th>\n",
              "    </tr>\n",
              "  </thead>\n",
              "  <tbody>\n",
              "    <tr>\n",
              "      <th>0</th>\n",
              "      <td>acer Aspire 5 Core i5 11th Gen - (8 GB/1 TB HD...</td>\n",
              "      <td>₹49,999</td>\n",
              "      <td>Intel Core i5 Processor (11th Gen)</td>\n",
              "      <td>64 bit Windows 10 Operating System</td>\n",
              "      <td>8 GB DDR4 RAM</td>\n",
              "      <td>1 TB HDD|256 GB SSD</td>\n",
              "    </tr>\n",
              "    <tr>\n",
              "      <th>1</th>\n",
              "      <td>MSI GF63 Thin Core i5 10th Gen - (8 GB/1 TB HD...</td>\n",
              "      <td>₹49,990</td>\n",
              "      <td>Intel Core i5 Processor (10th Gen)</td>\n",
              "      <td>64 bit Windows 10 Operating System</td>\n",
              "      <td>8 GB DDR4 RAM</td>\n",
              "      <td>1 TB HDD</td>\n",
              "    </tr>\n",
              "    <tr>\n",
              "      <th>2</th>\n",
              "      <td>acer Aspire 7 Core i5 10th Gen - (8 GB/512 GB ...</td>\n",
              "      <td>₹49,990</td>\n",
              "      <td>Free upgrade to Windows 11 when available</td>\n",
              "      <td>8 GB DDR4 RAM</td>\n",
              "      <td>Intel Core i5 Processor (10th Gen)</td>\n",
              "      <td>64 bit Windows 10 Operating System</td>\n",
              "    </tr>\n",
              "    <tr>\n",
              "      <th>3</th>\n",
              "      <td>ASUS VivoBook 15 (2021) Core i3 11th Gen - (4 ...</td>\n",
              "      <td>₹34,990</td>\n",
              "      <td>Intel Core i3 Processor (11th Gen)</td>\n",
              "      <td>Windows 10 Operating System</td>\n",
              "      <td>4 GB DDR4 RAM</td>\n",
              "      <td>256 GB SSD</td>\n",
              "    </tr>\n",
              "    <tr>\n",
              "      <th>4</th>\n",
              "      <td>ASUS TUF Gaming F15 Core i5 10th Gen - (8 GB/5...</td>\n",
              "      <td>₹59,990</td>\n",
              "      <td>Intel Core i5 Processor (10th Gen)</td>\n",
              "      <td>64 bit Windows 10 Operating System</td>\n",
              "      <td>8 GB DDR4 RAM</td>\n",
              "      <td>512 GB SSD</td>\n",
              "    </tr>\n",
              "  </tbody>\n",
              "</table>\n",
              "</div>\n",
              "      <button class=\"colab-df-convert\" onclick=\"convertToInteractive('df-40855840-d7bf-4eca-b588-c3ba2e962b8d')\"\n",
              "              title=\"Convert this dataframe to an interactive table.\"\n",
              "              style=\"display:none;\">\n",
              "        \n",
              "  <svg xmlns=\"http://www.w3.org/2000/svg\" height=\"24px\"viewBox=\"0 0 24 24\"\n",
              "       width=\"24px\">\n",
              "    <path d=\"M0 0h24v24H0V0z\" fill=\"none\"/>\n",
              "    <path d=\"M18.56 5.44l.94 2.06.94-2.06 2.06-.94-2.06-.94-.94-2.06-.94 2.06-2.06.94zm-11 1L8.5 8.5l.94-2.06 2.06-.94-2.06-.94L8.5 2.5l-.94 2.06-2.06.94zm10 10l.94 2.06.94-2.06 2.06-.94-2.06-.94-.94-2.06-.94 2.06-2.06.94z\"/><path d=\"M17.41 7.96l-1.37-1.37c-.4-.4-.92-.59-1.43-.59-.52 0-1.04.2-1.43.59L10.3 9.45l-7.72 7.72c-.78.78-.78 2.05 0 2.83L4 21.41c.39.39.9.59 1.41.59.51 0 1.02-.2 1.41-.59l7.78-7.78 2.81-2.81c.8-.78.8-2.07 0-2.86zM5.41 20L4 18.59l7.72-7.72 1.47 1.35L5.41 20z\"/>\n",
              "  </svg>\n",
              "      </button>\n",
              "      \n",
              "  <style>\n",
              "    .colab-df-container {\n",
              "      display:flex;\n",
              "      flex-wrap:wrap;\n",
              "      gap: 12px;\n",
              "    }\n",
              "\n",
              "    .colab-df-convert {\n",
              "      background-color: #E8F0FE;\n",
              "      border: none;\n",
              "      border-radius: 50%;\n",
              "      cursor: pointer;\n",
              "      display: none;\n",
              "      fill: #1967D2;\n",
              "      height: 32px;\n",
              "      padding: 0 0 0 0;\n",
              "      width: 32px;\n",
              "    }\n",
              "\n",
              "    .colab-df-convert:hover {\n",
              "      background-color: #E2EBFA;\n",
              "      box-shadow: 0px 1px 2px rgba(60, 64, 67, 0.3), 0px 1px 3px 1px rgba(60, 64, 67, 0.15);\n",
              "      fill: #174EA6;\n",
              "    }\n",
              "\n",
              "    [theme=dark] .colab-df-convert {\n",
              "      background-color: #3B4455;\n",
              "      fill: #D2E3FC;\n",
              "    }\n",
              "\n",
              "    [theme=dark] .colab-df-convert:hover {\n",
              "      background-color: #434B5C;\n",
              "      box-shadow: 0px 1px 3px 1px rgba(0, 0, 0, 0.15);\n",
              "      filter: drop-shadow(0px 1px 2px rgba(0, 0, 0, 0.3));\n",
              "      fill: #FFFFFF;\n",
              "    }\n",
              "  </style>\n",
              "\n",
              "      <script>\n",
              "        const buttonEl =\n",
              "          document.querySelector('#df-40855840-d7bf-4eca-b588-c3ba2e962b8d button.colab-df-convert');\n",
              "        buttonEl.style.display =\n",
              "          google.colab.kernel.accessAllowed ? 'block' : 'none';\n",
              "\n",
              "        async function convertToInteractive(key) {\n",
              "          const element = document.querySelector('#df-40855840-d7bf-4eca-b588-c3ba2e962b8d');\n",
              "          const dataTable =\n",
              "            await google.colab.kernel.invokeFunction('convertToInteractive',\n",
              "                                                     [key], {});\n",
              "          if (!dataTable) return;\n",
              "\n",
              "          const docLinkHtml = 'Like what you see? Visit the ' +\n",
              "            '<a target=\"_blank\" href=https://colab.research.google.com/notebooks/data_table.ipynb>data table notebook</a>'\n",
              "            + ' to learn more about interactive tables.';\n",
              "          element.innerHTML = '';\n",
              "          dataTable['output_type'] = 'display_data';\n",
              "          await google.colab.output.renderOutput(dataTable, element);\n",
              "          const docLink = document.createElement('div');\n",
              "          docLink.innerHTML = docLinkHtml;\n",
              "          element.appendChild(docLink);\n",
              "        }\n",
              "      </script>\n",
              "    </div>\n",
              "  </div>\n",
              "  "
            ],
            "text/plain": [
              "                                             Product  ...                   Secondary Storage\n",
              "0  acer Aspire 5 Core i5 11th Gen - (8 GB/1 TB HD...  ...                 1 TB HDD|256 GB SSD\n",
              "1  MSI GF63 Thin Core i5 10th Gen - (8 GB/1 TB HD...  ...                            1 TB HDD\n",
              "2  acer Aspire 7 Core i5 10th Gen - (8 GB/512 GB ...  ...  64 bit Windows 10 Operating System\n",
              "3  ASUS VivoBook 15 (2021) Core i3 11th Gen - (4 ...  ...                          256 GB SSD\n",
              "4  ASUS TUF Gaming F15 Core i5 10th Gen - (8 GB/5...  ...                          512 GB SSD\n",
              "\n",
              "[5 rows x 6 columns]"
            ]
          },
          "metadata": {},
          "execution_count": 19
        }
      ],
      "source": [
        "# create data structure to convert the data into the pandas dataframe\n",
        "data = {'Product': [product for product in products],\n",
        "        'Price':[price for price in prices],\n",
        "        'CPU':[processor for processor in processors],\n",
        "        'Operating System':[os for os in operatingSystems],\n",
        "        'RAM':[RAM for RAM in RAMs],\n",
        "        'Secondary Storage':[secondaryStorage for secondaryStorage in secondaryStorages]}\n",
        "\n",
        "# convert into the pandas dataframe\n",
        "dataframe = pd.DataFrame(data)\n",
        "\n",
        "#print top 5 rows of the dataframe\n",
        "dataframe.head()"
      ]
    },
    {
      "cell_type": "markdown",
      "source": [
        "Convert the database into a CSV file which acts as a database"
      ],
      "metadata": {
        "id": "ESfqHjKZq1ZI"
      }
    },
    {
      "cell_type": "code",
      "source": [
        "dataframe.to_csv(\"/content/flipkartData.csv\")"
      ],
      "metadata": {
        "id": "oAtjOJddqixU"
      },
      "execution_count": 20,
      "outputs": []
    }
  ],
  "metadata": {
    "colab": {
      "collapsed_sections": [],
      "name": "Task1.ipynb",
      "provenance": []
    },
    "kernelspec": {
      "display_name": "Python 3",
      "name": "python3"
    },
    "language_info": {
      "name": "python"
    }
  },
  "nbformat": 4,
  "nbformat_minor": 0
}